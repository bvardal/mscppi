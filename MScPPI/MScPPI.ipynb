{
 "cells": [
  {
   "cell_type": "code",
   "execution_count": null,
   "metadata": {
    "collapsed": true
   },
   "outputs": [],
   "source": [
    "import re\n",
    "import urllib.request\n",
    "\n",
    "query = 'P20340'\n",
    "url = ('http://phyrerisk.bc.ic.ac.uk:8080/rest/interaction/' + query)\n",
    "response = urllib.request.urlopen(url)\n",
    "data = response.readlines()\n",
    "list=[]\n",
    "dic= {\"interactome{0}\".format(x): [] for x in range(20)}\n",
    "\n",
    "with open('C:\\\\Users\\\\mkvardas\\\\Desktop\\\\test.js', 'w') as file:\n",
    "    file.write('var PPI = [\\n' + '{\"data\": {\"id\": \"' + query + '\"}},\\n')\n",
    "    for line in data:\n",
    "            id = re.search('<interactsWith>(.+?)</interactsWith>', str(line))\n",
    "            if id is not None:\n",
    "                list.append(id.group(1))\n",
    "                file.write('{\"data\": {\"id\": \"' + id.group(1) + '\"}},\\n')\n",
    "                file.write('{\"data\": {\"source\": \"' + query + '\", \"target\": \"' + id.group(1) + '\"}},\\n')\n",
    "    print(list)\n",
    "    for n in range(2):\n",
    "        nextinteractome = dic[\"interactome{0}\".format(n+1)]\n",
    "        if n == 0:\n",
    "            currentinteractome = list\n",
    "        else:\n",
    "            currentinteractome = dic[\"interactome{0}\".format(n)]\n",
    "            \n",
    "        for interactor in currentinteractome:\n",
    "            try:\n",
    "                url = ('http://phyrerisk.bc.ic.ac.uk:8080/rest/interaction/'+ interactor)\n",
    "                response = urllib.request.urlopen(url)\n",
    "                data = response.readlines()\n",
    "                for line in data:\n",
    "                    id = re.search('<interactsWith>(.+?)</interactsWith>', str(line))\n",
    "                    if id is not None and id.group(1) != query:\n",
    "                        nextinteractome.append(id.group(1))\n",
    "                        file.write('{\"data\": {\"id\": \"' + id.group(1) + '\"}},\\n')\n",
    "                        file.write('{\"data\": {\"source\": \"' + interactor + '\", \"target\": \"' + id.group(1) + '\"}},\\n')\n",
    "            except:\n",
    "                continue\n",
    "        if len(nextinteractome) == 0:\n",
    "            break\n",
    "    file.write('];')\n",
    "\n",
    "\n",
    "\n",
    "\n",
    "\n",
    "\n",
    "\n"
   ]
  },
  {
   "cell_type": "code",
   "execution_count": null,
   "metadata": {
    "collapsed": true
   },
   "outputs": [],
   "source": []
  }
 ],
 "metadata": {
  "kernelspec": {
   "display_name": "Python 3",
   "language": "python",
   "name": "python3"
  },
  "language_info": {
   "codemirror_mode": {
    "name": "ipython",
    "version": 3
   },
   "file_extension": ".py",
   "mimetype": "text/x-python",
   "name": "python",
   "nbconvert_exporter": "python",
   "pygments_lexer": "ipython3",
   "version": "3.6.3"
  }
 },
 "nbformat": 4,
 "nbformat_minor": 2
}
